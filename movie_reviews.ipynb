{
 "cells": [
  {
   "cell_type": "markdown",
   "metadata": {},
   "source": [
    "# Web Scraping "
   ]
  },
  {
   "cell_type": "markdown",
   "metadata": {},
   "source": [
    "In this notebook, I will be using sentiment analysis on Rotten Tomatoes movie reviews to make predictions on users star ratings. First I am web scraping the movie rating website Rotten Tomatoes. Here I will parse the user id, review and star rating and add these features to a dataframe. "
   ]
  },
  {
   "cell_type": "markdown",
   "metadata": {},
   "source": [
    "### Importing Modules"
   ]
  },
  {
   "cell_type": "code",
   "execution_count": 18,
   "metadata": {},
   "outputs": [],
   "source": [
    "import pandas as pd\n",
    "import requests\n",
    "import urllib.request\n",
    "import time\n",
    "from bs4 import BeautifulSoup"
   ]
  },
  {
   "cell_type": "markdown",
   "metadata": {},
   "source": [
    "### Connecting to the URL"
   ]
  },
  {
   "cell_type": "code",
   "execution_count": 2,
   "metadata": {},
   "outputs": [],
   "source": [
    "# Tester URL\n",
    "url = 'https://www.rottentomatoes.com/m/black_panther_2018/reviews?type=user'\n",
    "response = requests.get(url)"
   ]
  },
  {
   "cell_type": "markdown",
   "metadata": {},
   "source": [
    "### Brewing the soup"
   ]
  },
  {
   "cell_type": "code",
   "execution_count": 3,
   "metadata": {},
   "outputs": [],
   "source": [
    "# Brewing the soup\n",
    "soup = BeautifulSoup(response.text, 'html.parser')"
   ]
  },
  {
   "cell_type": "markdown",
   "metadata": {},
   "source": [
    "### Isolating all the relevant user data"
   ]
  },
  {
   "cell_type": "code",
   "execution_count": 4,
   "metadata": {},
   "outputs": [
    {
     "name": "stdout",
     "output_type": "stream",
     "text": [
      "<li class=\"audience-reviews__item\" data-qa=\"review-item\">\n",
      " <div class=\"audience-reviews__user-wrap\">\n",
      "  <a href=\"/user/id/978824977\">\n",
      "   <span class=\"audience-review__default-image\">\n",
      "   </span>\n",
      "  </a>\n",
      "  <div class=\"audience-reviews__name-wrap\">\n",
      "   <a class=\"audience-reviews__name\" data-qa=\"review-name\" href=\"/user/id/978824977\">\n",
      "    Diego O\n",
      "   </a>\n",
      "  </div>\n",
      " </div>\n",
      " <div class=\"audience-reviews__review-wrap\">\n",
      "  <span class=\"audience-reviews__score\">\n",
      "   <span class=\"star-display\" data-qa=\"star-display\">\n",
      "    <span class=\"star-display__filled\">\n",
      "    </span>\n",
      "    <span class=\"star-display__filled\">\n",
      "    </span>\n",
      "    <span class=\"star-display__filled\">\n",
      "    </span>\n",
      "    <span class=\"star-display__filled\">\n",
      "    </span>\n",
      "    <span class=\"star-display__half\">\n",
      "    </span>\n",
      "   </span>\n",
      "  </span>\n",
      "  <span class=\"audience-reviews__duration\" data-qa=\"review-duration\">\n",
      "   Jan 08, 2021\n",
      "  </span>\n",
      "  <p class=\"audience-reviews__review js-review-text clamp clamp-8 js-clamp\" data-qa=\"review-text\">\n",
      "   Good but not that surprising.\n",
      "  </p>\n",
      "  <p class=\"audience-reviews__review--mobile js-review-text clamp clamp-4 js-clamp\" data-qa=\"review-mobile-text\">\n",
      "   Good but not that surprising.\n",
      "  </p>\n",
      "  <div class=\"review-flag-btn__wrapper\">\n",
      "   <button class=\"js-review-flag-btn review-flag-btn review-flag-btn--right\" data-author-id=\"978824977\" data-author-realm=\"RT\" data-review-id=\"\">\n",
      "    Flag this review\n",
      "   </button>\n",
      "  </div>\n",
      " </div>\n",
      "</li>\n",
      "\n"
     ]
    }
   ],
   "source": [
    "# One user\n",
    "user_all = soup.find_all('li', {'class': 'audience-reviews__item'})\n",
    "user = user_all[0]\n",
    "print(user.prettify())"
   ]
  },
  {
   "cell_type": "markdown",
   "metadata": {},
   "source": [
    "### Parsing the star rating, review and user id"
   ]
  },
  {
   "cell_type": "code",
   "execution_count": 5,
   "metadata": {},
   "outputs": [
    {
     "name": "stdout",
     "output_type": "stream",
     "text": [
      "4.5\n"
     ]
    }
   ],
   "source": [
    "# Star rating\n",
    "full_stars  = user.find_all('span', {'class': 'star-display__filled'})\n",
    "half_stars  = user.find_all('span', {'class': 'star-display__half'})\n",
    "star_rating = len(full_stars)+(len(half_stars)/2)\n",
    "\n",
    "print(star_rating)"
   ]
  },
  {
   "cell_type": "code",
   "execution_count": 6,
   "metadata": {},
   "outputs": [
    {
     "name": "stdout",
     "output_type": "stream",
     "text": [
      "Good but not that surprising.\n"
     ]
    }
   ],
   "source": [
    "# Extracting review\n",
    "review = user.find('p', {'class': 'audience-reviews__review js-review-text clamp clamp-8 js-clamp'})\n",
    "\n",
    "print(review.text)"
   ]
  },
  {
   "cell_type": "code",
   "execution_count": 13,
   "metadata": {},
   "outputs": [
    {
     "name": "stdout",
     "output_type": "stream",
     "text": [
      "/user/id/978824977\n",
      "['', 'user', 'id', '978824977']\n",
      "978824977\n"
     ]
    }
   ],
   "source": [
    "# Extracting user ID\n",
    "id_     = user.find('a')['href']\n",
    "id_list = id_.split('/')\n",
    "user_id = id_list[3]\n",
    "\n",
    "print(id_)\n",
    "print(id_list)\n",
    "print(user_id)"
   ]
  },
  {
   "cell_type": "code",
   "execution_count": 17,
   "metadata": {},
   "outputs": [
    {
     "name": "stdout",
     "output_type": "stream",
     "text": [
      "4.5\n",
      "Good but not that surprising.\n",
      "978824977\n",
      "\n",
      "5.0\n",
      "It was exciting to see this in theaters with my friends, and I had an extraordinary time. Again, this was a right place right time kind of film.\n",
      "906471241\n",
      "\n",
      "4.0\n",
      "I'm not a huge Marvel fan, but this movie is VERY good. I watched it with my dad, and we both LOVED it. If you like Marvel or don't, this one is for you!\n",
      "978925578\n",
      "\n",
      "0.5\n",
      "It was absolutely appaling!!!!! I have never been more bored (or ashamed of Marvel) in my entire life. Dreadful movie, would never watch again or recommend.\n",
      "978898527\n",
      "\n",
      "1.5\n",
      "Best movie of all time?  Best drama of all time? Have they lost their collective minds?\n",
      "This smacks of social justice sympathy.\n",
      "977911687\n",
      "\n",
      "5.0\n",
      "Black panther lived up to the height\n",
      "978866570\n",
      "\n",
      "2.0\n",
      "Not sure what all the hype was about. This movie is just so-so, and kind of boring at times.\n",
      "978071323\n",
      "\n",
      "5.0\n",
      "R.I.P. Chadwick Boseman\n",
      "978762264\n",
      "\n",
      "2.0\n",
      "Average superhero movie. Nothing \"super\" special about it.\n",
      "978883340\n",
      "\n",
      "5.0\n",
      "A masterpiece and a cultural phenomenon.  I love this movie and so should you.  Forgive the bad CGI in the final battle.  Everything else about it borders on perfect.\n",
      "936458985\n",
      "\n"
     ]
    }
   ],
   "source": [
    "# Parsing star rating, review and user id\n",
    "for user in soup.find_all('li', {'class': 'audience-reviews__item'}):\n",
    "    # Star rating\n",
    "    full_stars  = user.find_all('span', {'class': 'star-display__filled'})\n",
    "    half_stars  = user.find_all('span', {'class': 'star-display__half'})\n",
    "    star_rating = len(full_stars)+(len(half_stars)/2)\n",
    "    print(star_rating)\n",
    "\n",
    "    # Review\n",
    "    review = user.find('p', {'class': 'audience-reviews__review js-review-text clamp clamp-8 js-clamp'}).text\n",
    "    print(review)\n",
    "\n",
    "    # Extracting user ID\n",
    "    id_     = user.find('a')['href']\n",
    "    id_list = id_.split('/')\n",
    "    user_id = id_list[3]\n",
    "    print(user_id)\n",
    "    \n",
    "    print()"
   ]
  },
  {
   "cell_type": "code",
   "execution_count": null,
   "metadata": {},
   "outputs": [],
   "source": []
  }
 ],
 "metadata": {
  "kernelspec": {
   "display_name": "Python 3",
   "language": "python",
   "name": "python3"
  },
  "language_info": {
   "codemirror_mode": {
    "name": "ipython",
    "version": 3
   },
   "file_extension": ".py",
   "mimetype": "text/x-python",
   "name": "python",
   "nbconvert_exporter": "python",
   "pygments_lexer": "ipython3",
   "version": "3.8.5"
  }
 },
 "nbformat": 4,
 "nbformat_minor": 4
}
