{
 "cells": [
  {
   "cell_type": "markdown",
   "metadata": {},
   "source": [
    "# Web Scraping "
   ]
  },
  {
   "cell_type": "markdown",
   "metadata": {},
   "source": [
    "In this notebook, I will be using sentiment analysis on Rotten Tomatoes movie reviews to make predictions on users star ratings. First I am web scraping the movie rating website Rotten Tomatoes. Here I will parse the user id, review and star rating and add these features to a dataframe. "
   ]
  },
  {
   "cell_type": "markdown",
   "metadata": {},
   "source": [
    "### Importing Modules"
   ]
  },
  {
   "cell_type": "code",
   "execution_count": 2,
   "metadata": {},
   "outputs": [],
   "source": [
    "import pandas as pd\n",
    "from collections import defaultdict\n",
    "import pickle\n",
    "\n",
    "import requests\n",
    "import urllib.request\n",
    "import re\n",
    "import json"
   ]
  },
  {
   "cell_type": "markdown",
   "metadata": {},
   "source": [
    "# Parsing The Raw Data"
   ]
  },
  {
   "cell_type": "markdown",
   "metadata": {},
   "source": [
    "First, we send a GET request to our chosen website, which is outlined by the url variable. Next, we take the received HTML documentation and we complete a regular expression search to find the movie ID, which is needed later to change onto the next review pages. Rotten tomatoes have ten reviews on each page so to scrape many reviews at once, we need to have a method to automatically move onto the next page."
   ]
  },
  {
   "cell_type": "code",
   "execution_count": 4,
   "metadata": {},
   "outputs": [
    {
     "name": "stdout",
     "output_type": "stream",
     "text": [
      "Black Panther\n"
     ]
    }
   ],
   "source": [
    "# Defining the URL and requesting the HTML documentation\n",
    "url = 'https://www.rottentomatoes.com/m/black_panther_2018/reviews?type=user'\n",
    "response = requests.get(url)\n",
    "\n",
    "# Searching the HTML doc to extract the movie name and movie id\n",
    "html_data  = json.loads(re.search('movieReview\\s=\\s(.*);', response.text).group(1))\n",
    "movie_name = html_data['title']\n",
    "movie_id   = html_data['movieId']\n",
    "\n",
    "\n",
    "# # Function to flick through the review pages\n",
    "# def getReviews(endCursor):\n",
    "#     r = requests.get(f'https://www.rottentomatoes.com/napi/movie/{movie_id}/reviews/user',\n",
    "#     params = {\n",
    "#         \"direction\": \"next\",\n",
    "#         \"endCursor\": endCursor,\n",
    "#         \"startCursor\": \"\"\n",
    "#     })\n",
    "#     return r.json()\n",
    "\n",
    "# # Empty reviews list and result dictionary\n",
    "# reviews = []\n",
    "# result = {}\n",
    "   \n",
    "# # Looping over review pages until final page\n",
    "# i = 0\n",
    "# while True:\n",
    "#     result = getReviews(result['pageInfo']['endCursor'] if i != 0  else '')\n",
    "#     if result['pageInfo']['hasNextPage']==False:\n",
    "#         reviews.extend([t for t in result['reviews']])\n",
    "#         break\n",
    "#     reviews.extend([t for t in result['reviews']])\n",
    "#     i += 1"
   ]
  },
  {
   "cell_type": "markdown",
   "metadata": {},
   "source": [
    "# Creating Review Dataframe"
   ]
  },
  {
   "cell_type": "code",
   "execution_count": 9,
   "metadata": {},
   "outputs": [
    {
     "data": {
      "text/html": [
       "<div>\n",
       "<style scoped>\n",
       "    .dataframe tbody tr th:only-of-type {\n",
       "        vertical-align: middle;\n",
       "    }\n",
       "\n",
       "    .dataframe tbody tr th {\n",
       "        vertical-align: top;\n",
       "    }\n",
       "\n",
       "    .dataframe thead th {\n",
       "        text-align: right;\n",
       "    }\n",
       "</style>\n",
       "<table border=\"1\" class=\"dataframe\">\n",
       "  <thead>\n",
       "    <tr style=\"text-align: right;\">\n",
       "      <th></th>\n",
       "      <th>user</th>\n",
       "      <th>super_reviewer</th>\n",
       "      <th>profanity</th>\n",
       "      <th>review</th>\n",
       "      <th>rating</th>\n",
       "    </tr>\n",
       "  </thead>\n",
       "  <tbody>\n",
       "    <tr>\n",
       "      <th>3</th>\n",
       "      <td>978824977</td>\n",
       "      <td>0</td>\n",
       "      <td>0</td>\n",
       "      <td>Good but not that surprising.</td>\n",
       "      <td>4.5</td>\n",
       "    </tr>\n",
       "    <tr>\n",
       "      <th>4</th>\n",
       "      <td>906471241</td>\n",
       "      <td>0</td>\n",
       "      <td>0</td>\n",
       "      <td>It was exciting to see this in theaters with m...</td>\n",
       "      <td>5.0</td>\n",
       "    </tr>\n",
       "    <tr>\n",
       "      <th>5</th>\n",
       "      <td>978925578</td>\n",
       "      <td>0</td>\n",
       "      <td>0</td>\n",
       "      <td>I'm not a huge Marvel fan, but this movie is V...</td>\n",
       "      <td>4.0</td>\n",
       "    </tr>\n",
       "    <tr>\n",
       "      <th>6</th>\n",
       "      <td>978898527</td>\n",
       "      <td>0</td>\n",
       "      <td>0</td>\n",
       "      <td>It was absolutely appaling!!!!! I have never b...</td>\n",
       "      <td>0.5</td>\n",
       "    </tr>\n",
       "    <tr>\n",
       "      <th>7</th>\n",
       "      <td>977911687</td>\n",
       "      <td>0</td>\n",
       "      <td>0</td>\n",
       "      <td>Best movie of all time?  Best drama of all tim...</td>\n",
       "      <td>1.5</td>\n",
       "    </tr>\n",
       "    <tr>\n",
       "      <th>...</th>\n",
       "      <td>...</td>\n",
       "      <td>...</td>\n",
       "      <td>...</td>\n",
       "      <td>...</td>\n",
       "      <td>...</td>\n",
       "    </tr>\n",
       "    <tr>\n",
       "      <th>12529</th>\n",
       "      <td>907803058</td>\n",
       "      <td>0</td>\n",
       "      <td>0</td>\n",
       "      <td>A particular type of movie transports us to a ...</td>\n",
       "      <td>5.0</td>\n",
       "    </tr>\n",
       "    <tr>\n",
       "      <th>12530</th>\n",
       "      <td>903748135</td>\n",
       "      <td>0</td>\n",
       "      <td>0</td>\n",
       "      <td>Marvel Studios is on a roll lately. Their last...</td>\n",
       "      <td>4.5</td>\n",
       "    </tr>\n",
       "    <tr>\n",
       "      <th>12531</th>\n",
       "      <td>905445336</td>\n",
       "      <td>0</td>\n",
       "      <td>0</td>\n",
       "      <td>Black Panther has flashy action and one-liners...</td>\n",
       "      <td>4.0</td>\n",
       "    </tr>\n",
       "    <tr>\n",
       "      <th>12532</th>\n",
       "      <td>802139043</td>\n",
       "      <td>0</td>\n",
       "      <td>0</td>\n",
       "      <td>Outstanding plot, costumes, characters, and pe...</td>\n",
       "      <td>5.0</td>\n",
       "    </tr>\n",
       "    <tr>\n",
       "      <th>12533</th>\n",
       "      <td>802139043</td>\n",
       "      <td>0</td>\n",
       "      <td>0</td>\n",
       "      <td>Outstanding plot, costumes, characters, and pe...</td>\n",
       "      <td>5.0</td>\n",
       "    </tr>\n",
       "  </tbody>\n",
       "</table>\n",
       "<p>12531 rows × 5 columns</p>\n",
       "</div>"
      ],
      "text/plain": [
       "            user  super_reviewer  profanity  \\\n",
       "3      978824977               0          0   \n",
       "4      906471241               0          0   \n",
       "5      978925578               0          0   \n",
       "6      978898527               0          0   \n",
       "7      977911687               0          0   \n",
       "...          ...             ...        ...   \n",
       "12529  907803058               0          0   \n",
       "12530  903748135               0          0   \n",
       "12531  905445336               0          0   \n",
       "12532  802139043               0          0   \n",
       "12533  802139043               0          0   \n",
       "\n",
       "                                                  review  rating  \n",
       "3                          Good but not that surprising.     4.5  \n",
       "4      It was exciting to see this in theaters with m...     5.0  \n",
       "5      I'm not a huge Marvel fan, but this movie is V...     4.0  \n",
       "6      It was absolutely appaling!!!!! I have never b...     0.5  \n",
       "7      Best movie of all time?  Best drama of all tim...     1.5  \n",
       "...                                                  ...     ...  \n",
       "12529  A particular type of movie transports us to a ...     5.0  \n",
       "12530  Marvel Studios is on a roll lately. Their last...     4.5  \n",
       "12531  Black Panther has flashy action and one-liners...     4.0  \n",
       "12532  Outstanding plot, costumes, characters, and pe...     5.0  \n",
       "12533  Outstanding plot, costumes, characters, and pe...     5.0  \n",
       "\n",
       "[12531 rows x 5 columns]"
      ]
     },
     "execution_count": 9,
     "metadata": {},
     "output_type": "execute_result"
    }
   ],
   "source": [
    "# Empty data dictionary\n",
    "data = defaultdict(list)\n",
    "\n",
    "# Finding reviewers who have user id's \n",
    "users_all = [reviews[i]['user']['userId'] for i in range(len(reviews))]\n",
    "idx = [i for i in range(len(users_all)) if len(users_all[i]) == 9]\n",
    "users = [reviews[i]['user']['userId'] for i in idx]\n",
    "data['user'].extend(users)\n",
    "\n",
    "# Verified\n",
    "super_reviewer = [reviews[i]['isSuperReviewer'] for i in idx]\n",
    "super_reviewer = [int(x) for x in super_reviewer]\n",
    "data['super_reviewer'].extend(super_reviewer)\n",
    "\n",
    "# Profanity\n",
    "profanity = [reviews[i]['hasProfanity'] for i in idx]\n",
    "profanity = [int(x) for x in profanity]\n",
    "data['profanity'].extend(profanity)\n",
    "\n",
    "# Written Review\n",
    "data['review'].extend([reviews[i]['review'] for i in idx])\n",
    "\n",
    "# Star rating\n",
    "star_rating = [reviews[i]['rating'] for i in idx]\n",
    "star_rating = [float(x.replace('STAR_','').replace('_','.')) for x in star_rating]\n",
    "data['rating'].extend(star_rating)\n",
    "\n",
    "# Creating dataframe of reviews\n",
    "df = pd.DataFrame(data)\n",
    "df = df.iloc[3:]\n",
    "df.to_pickle('reviews.pkl')"
   ]
  }
 ],
 "metadata": {
  "kernelspec": {
   "display_name": "Python 3",
   "language": "python",
   "name": "python3"
  },
  "language_info": {
   "codemirror_mode": {
    "name": "ipython",
    "version": 3
   },
   "file_extension": ".py",
   "mimetype": "text/x-python",
   "name": "python",
   "nbconvert_exporter": "python",
   "pygments_lexer": "ipython3",
   "version": "3.8.5"
  }
 },
 "nbformat": 4,
 "nbformat_minor": 4
}
