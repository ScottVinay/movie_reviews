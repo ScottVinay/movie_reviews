{
 "cells": [
  {
   "cell_type": "markdown",
   "metadata": {},
   "source": [
    "# Web Scraping "
   ]
  },
  {
   "cell_type": "markdown",
   "metadata": {},
   "source": [
    "In this notebook, I will be using sentiment analysis on Rotten Tomatoes movie reviews to make predictions on users star ratings. First I am web scraping the movie rating website Rotten Tomatoes. Here I will parse the user id, review and star rating and add these features to a dataframe. "
   ]
  },
  {
   "cell_type": "markdown",
   "metadata": {},
   "source": [
    "### Importing Modules"
   ]
  },
  {
   "cell_type": "code",
   "execution_count": 1,
   "metadata": {},
   "outputs": [],
   "source": [
    "import pandas as pd\n",
    "from collections import defaultdict\n",
    "\n",
    "import requests\n",
    "import urllib.request\n",
    "from bs4 import BeautifulSoup"
   ]
  },
  {
   "cell_type": "markdown",
   "metadata": {},
   "source": [
    "### Connecting to the URL"
   ]
  },
  {
   "cell_type": "code",
   "execution_count": 2,
   "metadata": {},
   "outputs": [],
   "source": [
    "# Tester URL\n",
    "url = 'https://www.rottentomatoes.com/m/black_panther_2018/reviews?type=user'\n",
    "response = requests.get(url)"
   ]
  },
  {
   "cell_type": "markdown",
   "metadata": {},
   "source": [
    "### Brewing the soup"
   ]
  },
  {
   "cell_type": "code",
   "execution_count": 3,
   "metadata": {},
   "outputs": [],
   "source": [
    "# Brewing the soup\n",
    "soup = BeautifulSoup(response.text, 'html.parser')"
   ]
  },
  {
   "cell_type": "markdown",
   "metadata": {},
   "source": [
    "### Isolating all the relevant user data"
   ]
  },
  {
   "cell_type": "code",
   "execution_count": 4,
   "metadata": {},
   "outputs": [
    {
     "name": "stdout",
     "output_type": "stream",
     "text": [
      "<li class=\"audience-reviews__item\" data-qa=\"review-item\">\n",
      " <div class=\"audience-reviews__user-wrap\">\n",
      "  <a href=\"/user/id/978824977\">\n",
      "   <span class=\"audience-review__default-image\">\n",
      "   </span>\n",
      "  </a>\n",
      "  <div class=\"audience-reviews__name-wrap\">\n",
      "   <a class=\"audience-reviews__name\" data-qa=\"review-name\" href=\"/user/id/978824977\">\n",
      "    Diego O\n",
      "   </a>\n",
      "  </div>\n",
      " </div>\n",
      " <div class=\"audience-reviews__review-wrap\">\n",
      "  <span class=\"audience-reviews__score\">\n",
      "   <span class=\"star-display\" data-qa=\"star-display\">\n",
      "    <span class=\"star-display__filled\">\n",
      "    </span>\n",
      "    <span class=\"star-display__filled\">\n",
      "    </span>\n",
      "    <span class=\"star-display__filled\">\n",
      "    </span>\n",
      "    <span class=\"star-display__filled\">\n",
      "    </span>\n",
      "    <span class=\"star-display__half\">\n",
      "    </span>\n",
      "   </span>\n",
      "  </span>\n",
      "  <span class=\"audience-reviews__duration\" data-qa=\"review-duration\">\n",
      "   Jan 08, 2021\n",
      "  </span>\n",
      "  <p class=\"audience-reviews__review js-review-text clamp clamp-8 js-clamp\" data-qa=\"review-text\">\n",
      "   Good but not that surprising.\n",
      "  </p>\n",
      "  <p class=\"audience-reviews__review--mobile js-review-text clamp clamp-4 js-clamp\" data-qa=\"review-mobile-text\">\n",
      "   Good but not that surprising.\n",
      "  </p>\n",
      "  <div class=\"review-flag-btn__wrapper\">\n",
      "   <button class=\"js-review-flag-btn review-flag-btn review-flag-btn--right\" data-author-id=\"978824977\" data-author-realm=\"RT\" data-review-id=\"\">\n",
      "    Flag this review\n",
      "   </button>\n",
      "  </div>\n",
      " </div>\n",
      "</li>\n",
      "\n"
     ]
    }
   ],
   "source": [
    "# One user\n",
    "user_all = soup.find_all('li', {'class': 'audience-reviews__item'})\n",
    "user = user_all[0]\n",
    "print(user.prettify())"
   ]
  },
  {
   "cell_type": "markdown",
   "metadata": {},
   "source": [
    "# Tester Code "
   ]
  },
  {
   "cell_type": "code",
   "execution_count": 5,
   "metadata": {},
   "outputs": [
    {
     "name": "stdout",
     "output_type": "stream",
     "text": [
      "4.5\n"
     ]
    }
   ],
   "source": [
    "# Parsing star rating\n",
    "full_stars  = user.find_all('span', {'class': 'star-display__filled'})\n",
    "half_stars  = user.find_all('span', {'class': 'star-display__half'})\n",
    "star_rating = len(full_stars)+(len(half_stars)/2)\n",
    "\n",
    "print(star_rating)"
   ]
  },
  {
   "cell_type": "code",
   "execution_count": 6,
   "metadata": {},
   "outputs": [
    {
     "name": "stdout",
     "output_type": "stream",
     "text": [
      "Good but not that surprising.\n"
     ]
    }
   ],
   "source": [
    "# Parsing review\n",
    "review = user.find('p', {'class': 'audience-reviews__review js-review-text clamp clamp-8 js-clamp'})\n",
    "\n",
    "print(review)"
   ]
  },
  {
   "cell_type": "code",
   "execution_count": 7,
   "metadata": {},
   "outputs": [
    {
     "name": "stdout",
     "output_type": "stream",
     "text": [
      "/user/id/978824977\n",
      "['', 'user', 'id', '978824977']\n",
      "978824977\n"
     ]
    }
   ],
   "source": [
    "# Parsing user ID\n",
    "id_     = user.find('a')['href']\n",
    "id_list = id_.split('/')\n",
    "user_id = id_list[3]\n",
    "\n",
    "print(user_id)"
   ]
  },
  {
   "cell_type": "markdown",
   "metadata": {},
   "source": [
    "# Parsing the star rating, review and user id"
   ]
  },
  {
   "cell_type": "code",
   "execution_count": 31,
   "metadata": {},
   "outputs": [
    {
     "data": {
      "text/html": [
       "<div>\n",
       "<style scoped>\n",
       "    .dataframe tbody tr th:only-of-type {\n",
       "        vertical-align: middle;\n",
       "    }\n",
       "\n",
       "    .dataframe tbody tr th {\n",
       "        vertical-align: top;\n",
       "    }\n",
       "\n",
       "    .dataframe thead th {\n",
       "        text-align: right;\n",
       "    }\n",
       "</style>\n",
       "<table border=\"1\" class=\"dataframe\">\n",
       "  <thead>\n",
       "    <tr style=\"text-align: right;\">\n",
       "      <th></th>\n",
       "      <th>user_id</th>\n",
       "      <th>review</th>\n",
       "      <th>rating</th>\n",
       "    </tr>\n",
       "  </thead>\n",
       "  <tbody>\n",
       "    <tr>\n",
       "      <th>0</th>\n",
       "      <td>978824977</td>\n",
       "      <td>Good but not that surprising.</td>\n",
       "      <td>4.5</td>\n",
       "    </tr>\n",
       "    <tr>\n",
       "      <th>1</th>\n",
       "      <td>906471241</td>\n",
       "      <td>It was exciting to see this in theaters with m...</td>\n",
       "      <td>5.0</td>\n",
       "    </tr>\n",
       "    <tr>\n",
       "      <th>2</th>\n",
       "      <td>978925578</td>\n",
       "      <td>I'm not a huge Marvel fan, but this movie is V...</td>\n",
       "      <td>4.0</td>\n",
       "    </tr>\n",
       "    <tr>\n",
       "      <th>3</th>\n",
       "      <td>978898527</td>\n",
       "      <td>It was absolutely appaling!!!!! I have never b...</td>\n",
       "      <td>0.5</td>\n",
       "    </tr>\n",
       "    <tr>\n",
       "      <th>4</th>\n",
       "      <td>977911687</td>\n",
       "      <td>Best movie of all time?  Best drama of all tim...</td>\n",
       "      <td>1.5</td>\n",
       "    </tr>\n",
       "    <tr>\n",
       "      <th>5</th>\n",
       "      <td>978866570</td>\n",
       "      <td>Black panther lived up to the height</td>\n",
       "      <td>5.0</td>\n",
       "    </tr>\n",
       "    <tr>\n",
       "      <th>6</th>\n",
       "      <td>978071323</td>\n",
       "      <td>Not sure what all the hype was about. This mov...</td>\n",
       "      <td>2.0</td>\n",
       "    </tr>\n",
       "    <tr>\n",
       "      <th>7</th>\n",
       "      <td>978762264</td>\n",
       "      <td>R.I.P. Chadwick Boseman</td>\n",
       "      <td>5.0</td>\n",
       "    </tr>\n",
       "    <tr>\n",
       "      <th>8</th>\n",
       "      <td>978883340</td>\n",
       "      <td>Average superhero movie. Nothing \"super\" speci...</td>\n",
       "      <td>2.0</td>\n",
       "    </tr>\n",
       "    <tr>\n",
       "      <th>9</th>\n",
       "      <td>936458985</td>\n",
       "      <td>A masterpiece and a cultural phenomenon.  I lo...</td>\n",
       "      <td>5.0</td>\n",
       "    </tr>\n",
       "  </tbody>\n",
       "</table>\n",
       "</div>"
      ],
      "text/plain": [
       "     user_id                                             review  rating\n",
       "0  978824977                      Good but not that surprising.     4.5\n",
       "1  906471241  It was exciting to see this in theaters with m...     5.0\n",
       "2  978925578  I'm not a huge Marvel fan, but this movie is V...     4.0\n",
       "3  978898527  It was absolutely appaling!!!!! I have never b...     0.5\n",
       "4  977911687  Best movie of all time?  Best drama of all tim...     1.5\n",
       "5  978866570               Black panther lived up to the height     5.0\n",
       "6  978071323  Not sure what all the hype was about. This mov...     2.0\n",
       "7  978762264                            R.I.P. Chadwick Boseman     5.0\n",
       "8  978883340  Average superhero movie. Nothing \"super\" speci...     2.0\n",
       "9  936458985  A masterpiece and a cultural phenomenon.  I lo...     5.0"
      ]
     },
     "execution_count": 31,
     "metadata": {},
     "output_type": "execute_result"
    }
   ],
   "source": [
    "# Empty data dictionary\n",
    "data = defaultdict(list)\n",
    "\n",
    "# Parsing star rating, review and user id\n",
    "for user in soup.find_all('li', {'class': 'audience-reviews__item'}):\n",
    "    # Extracting user ID\n",
    "    id_     = user.find('a')['href']\n",
    "    id_list = id_.split('/')\n",
    "    user_id = id_list[3]\n",
    "\n",
    "    # Review\n",
    "    review = user.find('p', {'class': 'audience-reviews__review js-review-text clamp clamp-8 js-clamp'}).text\n",
    "    \n",
    "    # Star rating\n",
    "    full_stars  = user.find_all('span', {'class': 'star-display__filled'})\n",
    "    half_stars  = user.find_all('span', {'class': 'star-display__half'})\n",
    "    star_rating = len(full_stars)+(len(half_stars)/2)\n",
    "\n",
    "    # Appending values to data dictionary\n",
    "    data['user_id'].append(user_id)\n",
    "    data['review'] .append(review)\n",
    "    data['rating'] .append(star_rating)\n",
    "\n",
    "# Creating dataframe from data dictionary\n",
    "df = pd.DataFrame(data).reset_index(drop=True)\n",
    "df"
   ]
  },
  {
   "cell_type": "code",
   "execution_count": null,
   "metadata": {},
   "outputs": [],
   "source": []
  }
 ],
 "metadata": {
  "kernelspec": {
   "display_name": "Python 3",
   "language": "python",
   "name": "python3"
  },
  "language_info": {
   "codemirror_mode": {
    "name": "ipython",
    "version": 3
   },
   "file_extension": ".py",
   "mimetype": "text/x-python",
   "name": "python",
   "nbconvert_exporter": "python",
   "pygments_lexer": "ipython3",
   "version": "3.8.5"
  }
 },
 "nbformat": 4,
 "nbformat_minor": 4
}
